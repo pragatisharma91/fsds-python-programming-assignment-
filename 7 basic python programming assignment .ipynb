{
 "cells": [
  {
   "cell_type": "markdown",
   "id": "f940889d",
   "metadata": {},
   "source": [
    "1. Write a Python Program to find sum of array?"
   ]
  },
  {
   "cell_type": "code",
   "execution_count": 1,
   "id": "e9f5d619",
   "metadata": {},
   "outputs": [
    {
     "name": "stdout",
     "output_type": "stream",
     "text": [
      "Sum of array:  197\n"
     ]
    }
   ],
   "source": [
    "l = [1,2,3,-412, 123, 369, 111]\n",
    "\n",
    "arraySum = 0\n",
    "for i in l:\n",
    "    arraySum += i\n",
    "    \n",
    "print(\"Sum of array: \", arraySum)"
   ]
  },
  {
   "cell_type": "markdown",
   "id": "6898e8be",
   "metadata": {},
   "source": [
    "2. Write a Python Program to find largest element in an array?"
   ]
  },
  {
   "cell_type": "code",
   "execution_count": 2,
   "id": "e0f2904f",
   "metadata": {},
   "outputs": [
    {
     "data": {
      "text/plain": [
       "1000"
      ]
     },
     "execution_count": 2,
     "metadata": {},
     "output_type": "execute_result"
    }
   ],
   "source": [
    "l = [1,2,3,4,5,6,77,888,999,1000]\n",
    "\n",
    "arrayMax = -9999999999999\n",
    "\n",
    "for i in l:\n",
    "    if i > arrayMax:\n",
    "        arrayMax = i\n",
    "\n",
    "arrayMax"
   ]
  },
  {
   "cell_type": "markdown",
   "id": "1d976974",
   "metadata": {},
   "source": [
    "3. Write a Python Program for array rotation?"
   ]
  },
  {
   "cell_type": "code",
   "execution_count": 3,
   "id": "9c1f9faf",
   "metadata": {},
   "outputs": [
    {
     "name": "stdout",
     "output_type": "stream",
     "text": [
      "Rotated array:\n",
      "[111, 369, 123, -412, 3, 2, 1]\n"
     ]
    }
   ],
   "source": [
    "l = [1,2,3,-412, 123, 369, 111]\n",
    "\n",
    "print(\"Rotated array:\")\n",
    "print(l[::-1])"
   ]
  }
 ],
 "metadata": {
  "kernelspec": {
   "display_name": "Python 3 (ipykernel)",
   "language": "python",
   "name": "python3"
  },
  "language_info": {
   "codemirror_mode": {
    "name": "ipython",
    "version": 3
   },
   "file_extension": ".py",
   "mimetype": "text/x-python",
   "name": "python",
   "nbconvert_exporter": "python",
   "pygments_lexer": "ipython3",
   "version": "3.11.4"
  }
 },
 "nbformat": 4,
 "nbformat_minor": 5
}
